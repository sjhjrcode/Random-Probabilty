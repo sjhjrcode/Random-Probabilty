{
 "cells": [
  {
   "cell_type": "code",
   "execution_count": 1,
   "metadata": {},
   "outputs": [
    {
     "name": "stdout",
     "output_type": "stream",
     "text": [
      "0\n"
     ]
    }
   ],
   "source": [
    "import random\n",
    "a = random.randint(0,9)\n",
    "print(a)\n"
   ]
  },
  {
   "cell_type": "code",
   "execution_count": 2,
   "metadata": {},
   "outputs": [
    {
     "name": "stdout",
     "output_type": "stream",
     "text": [
      "Total:  9999999\n",
      "Win Not Switching:  3333974\n",
      "Win Switching:  6666025\n",
      "Win Rate switching:  66.66025666602566 %\n",
      "Win Rate not switching:  33.33974333397433 %\n"
     ]
    }
   ],
   "source": [
    "\n",
    "door = [1,2,3]\n",
    "total = 0\n",
    "win = 0\n",
    "win_n=0\n",
    "\n",
    "for i in range(1,10000000):\n",
    "\n",
    "    door_list = door[:]\n",
    "    final_choice = door[:]\n",
    "    choice = random.randint(1,3)\n",
    "    correct = random.randint(1,3)\n",
    "    if choice == correct:\n",
    "        win_n = win_n +1\n",
    "    #print(door_list)\n",
    "    #print(choice)\n",
    "    #print(correct)\n",
    "    door_list.remove(choice)\n",
    "    for item in door_list:\n",
    "        if item == correct:\n",
    "            door_list.remove(correct)\n",
    "    a = random.randint(0,len(door_list)-1)\n",
    "    door_removed = door_list.pop(a)\n",
    "    #print(door_removed)\n",
    "    #print(final_choice)\n",
    "    final_choice.remove(door_removed)\n",
    "    final_choice.remove(choice)\n",
    "    final_choice= final_choice.pop(0)\n",
    "    if final_choice == correct:\n",
    "        win = win+1\n",
    "    total = total+1\n",
    "print(\"Total: \",total )\n",
    "print(\"Win Not Switching: \",win_n  )\n",
    "print(\"Win Switching: \", win )\n",
    "\n",
    "\n",
    "percentage = (win/total)*100\n",
    "print(\"Win Rate switching: \",percentage,\"%\")\n",
    "percentage = (win_n/total)*100\n",
    "print(\"Win Rate not switching: \",percentage,\"%\")"
   ]
  }
 ],
 "metadata": {
  "kernelspec": {
   "display_name": "random",
   "language": "python",
   "name": "python3"
  },
  "language_info": {
   "codemirror_mode": {
    "name": "ipython",
    "version": 3
   },
   "file_extension": ".py",
   "mimetype": "text/x-python",
   "name": "python",
   "nbconvert_exporter": "python",
   "pygments_lexer": "ipython3",
   "version": "3.10.12"
  },
  "orig_nbformat": 4
 },
 "nbformat": 4,
 "nbformat_minor": 2
}
